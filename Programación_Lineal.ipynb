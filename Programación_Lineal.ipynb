{
 "cells": [
  {
   "cell_type": "markdown",
   "metadata": {},
   "source": [
    "<img style=\"float: left; margin: 30px 15px 15px 15px;\" src=\"https://encrypted-tbn0.gstatic.com/images?q=tbn:ANd9GcTFzQj91sOlkeDFkg5HDbjtR4QJYmLXkfMNig&usqp=CAU\" width=\"400\" height=\"500\" /> \n",
    "    \n",
    "    \n",
    "### <font color='navy'> Simulación matemática. \n",
    "\n",
    "**Nombres:** EMILIANO HERNANDEZ CAMPOS - TALPA DE JESUS ORNELAS GÜITRON - ADRES SANTOYO PUGA \n",
    "\n",
    "**Fecha:** 20 de octubre del 2023.\n",
    "\n",
    "**Expediente** : 745067 - 744817 -745134\n",
    "    \n",
    "**Profesor:** Oscar David Jaramillo Zuluaga.\n",
    "    \n",
    "**Link Github**: https://github.com/TalpaOrnelas/PM1_OrnelasT_HernandezE_PugaA\n",
    "\n",
    "# Proyecto I"
   ]
  },
  {
   "cell_type": "markdown",
   "metadata": {},
   "source": [
    "## 1.1 Optimización de transporte de materiales\n",
    "La optimización del transporte de materiales para una obra es un proceso fundamental en la gestión de la cadena de suministro y logística de la construcción. Consiste en determinar la asignación más eficiente de recursos de transporte (como camiones, vehículos especializados, o incluso rutas de transporte) para satisfacer las necesidades de materiales de una obra de construcción. \n",
    "\n",
    "\n",
    "### 1.2 Objetivos.\n",
    "\n",
    "\n",
    "> #### 1.1 Objetivo general.\n",
    ">  - Minimizar los costos totales de transporte de materiales, asegurando al mismo tiempo que se satisfagan las demandas de las obras y se respeten las capacidades de los bancos de materiales. Lograr este objetivo general es fundamental para la eficiencia operativa de las empresas de construcción, la reducción de costos logísticos, el cumplimiento de los plazos de construcción y la minimización del impacto ambiental asociado al transporte.\n",
    "> #### 1.2 Objetivos específicos\n",
    "> - Minimizar los costos de transporte\n",
    "> - Optimizar la asignación de recursos\n",
    "> - Reducir el tiempo de transporte\n",
    "> - Maximizar la utilización de los bancos de material\n",
    "> - Maximizar la rentabilidad del proyecto\n",
    "\n",
    "Referencia:\n",
    "- https://es.slideshare.net/rosbur/metodologia-objetivos-generales-y-especficos\n",
    "\n",
    "### 1.3 Introducción\n",
    "Un constructora depende de 3 bancos de materiales para satisfacer la demanda diaria de cemento en tres obras, Obra 1, Obra 2 y Obra 3. Los bancos $1$, $2$ y $3$ pueden satisfacer $60$, $80$ y $50$ toneladas de cemento al día respectivamente. Las necesidades de la Obra 1, Obra 2 y Obra 3 pueden satisfacer  $50$, $40$ y $100$ toneladas de centento de manera dairia respectivamente. \n",
    "\n",
    "\n",
    "Los costos asociados al envio de materiales por cada tonelada de entre cada uno de los bancos y cada obra es el siguiente\n",
    "\n",
    "-|Obra 1|Obra 2|Obra 3\n",
    ":----|----|----|----\n",
    "Banco 1|8|2|4\n",
    "Banco 2|4|6|5\n",
    "Banco 3|3|1|6\n",
    "\n",
    "\n",
    "### 1.4 Modelo que representa el problema.\n",
    "Fuentes de Suministro (Bancos de Materiales):\n",
    "\n",
    "+ Banco 1 puede proporcionar hasta 60 toneladas de cemento al día.\n",
    "+ Banco 2 puede proporcionar hasta 80 toneladas de cemento al día.\n",
    "+ Banco 3 puede proporcionar hasta 50 toneladas de cemento al día.\n",
    "\n",
    "\n",
    "Demandas de las Obras:\n",
    "\n",
    "+ Obra 1 requiere 50 toneladas de cemento diarias.\n",
    "+ Obra 2 requiere 40 toneladas de cemento diarias.\n",
    "+ Obra 3 requiere 100 toneladas de cemento diarias.\n",
    "\n",
    "Los costos asociados al envio de materiales por cada tonelada de entre cada uno de los bancos y cada obra es el siguiente\n",
    "\n",
    "-|Obra 1|Obra 2|Obra 3\n",
    ":----|----|----|----\n",
    "Banco 1|8|2|4\n",
    "Banco 2|4|6|5\n",
    "Banco 3|3|1|6\n",
    "\n",
    "\n",
    "\n",
    "Para simplificar la notación use las siguientes variables:\n",
    "\n",
    "+ $x_1$: toneladas distribuidos del Banco 1 a Obra 1\n",
    "+ $x_2$: toneladas distribuidos del Banco 1 a Obra 2\n",
    "+ $x_3$: toneladas distribuidos del Banco 1 a Obra 3\n",
    "+ $x_4$: toneladas distribuidos del Banco 2 a Obra 1\n",
    "+ $x_5$: toneladas distribuidos del Banco 2 a Obra 2\n",
    "+ $x_6$: toneladas distribuidos del Banco 2 a Obra 3\n",
    "+ $x_7$: toneladas distribuidos del Banco 3 a Obra 1\n",
    "+ $x_8$: toneladas distribuidos del Banco 3 a Obra 2\n",
    "+ $x_9$: toneladas distribuidos del Banco 3 a Obra 3\n",
    "\n",
    "\n",
    "\n",
    "El objetivo es determinar la asignación óptima de cuántas toneladas de cemento debe adquirir la empresa constructora de cada banco de materiales para satisfacer las demandas de las obras, minimizando al mismo tiempo los costos totales de adquisición de cemento.\n",
    "\n",
    "### 1.5 Solución del problema de optimización.\n",
    "\n",
    "Variables de Decisión:\n",
    "+ $x_1$: Toneladas de cemento transportadas desde el Banco 1 a la Obra 1.\n",
    "+ $x_2$: Toneladas de cemento transportadas desde el Banco 1 a la Obra 2.\n",
    "+ $x_3$: Toneladas de cemento transportadas desde el Banco 1 a la Obra 3.\n",
    "+ $x_4$: Toneladas de cemento transportadas desde el Banco 2 a la Obra 1.\n",
    "+ $x_5$: Toneladas de cemento transportadas desde el Banco 2 a la Obra 2.\n",
    "+ $x_6$: Toneladas de cemento transportadas desde el Banco 2 a la Obra 3.\n",
    "+ $x_7$: Toneladas de cemento transportadas desde el Banco 3 a la Obra 1.\n",
    "+ $x_8$: Toneladas de cemento transportadas desde el Banco 3 a la Obra 2.\n",
    "+ $x_9$: Toneladas de cemento transportadas desde el Banco 3 a la Obra 3.\n",
    "\n",
    "**Función Objetivo:**\n",
    "Minimizar el costo total de transporte:\n",
    "\n",
    "Minimizar: $8x_1 + 2x_2 + 4x_3 + 4x_4 + 6x_5 + 5x_6 + 3x_7 + x_8 + 6x_9$\n",
    "\n",
    "\n",
    "**Restricciones:**\n",
    "1. Restricciones de oferta (capacidad de los bancos):\n",
    "   - Desde el Banco 1: $x_1 + x_2 + x_3 \\leq 60$\n",
    "   - Desde el Banco 2: $x_4 + x_5 + x_6 \\leq 80$\n",
    "   - Desde el Banco 3: $x_7 + x_8 + x_9 \\leq 50$\n",
    "\n",
    "2. Restricciones de demanda (necesidades de las obras):\n",
    "   - Para la Obra 1: $x_1 + x_4 + x_7 \\geq 50$\n",
    "   - Para la Obra 2: $x_2 + x_5 + x_8 \\geq 40$\n",
    "   - Para la Obra 3: $x_3 + x_6 + x_9 \\geq 100$\n",
    "   \n",
    "   Entonces:\n",
    "\n",
    "   - Para la Obra 1: $-x_1 + -x_4 + -x_7 \\leq -50$\n",
    "   - Para la Obra 2: $-x_2 + -x_5 + -x_8 \\leq -40$\n",
    "   - Para la Obra 3: $-x_3 + -x_6 + -x_9 \\leq -100$\n"
   ]
  },
  {
   "cell_type": "markdown",
   "metadata": {},
   "source": [
    "### 1.6 Visualización de la solución del problema."
   ]
  },
  {
   "cell_type": "code",
   "execution_count": 2,
   "metadata": {},
   "outputs": [],
   "source": [
    "# Importar numpy para crear las matrices\n",
    "import scipy.optimize as opt\n",
    "import numpy as np"
   ]
  },
  {
   "cell_type": "code",
   "execution_count": null,
   "metadata": {},
   "outputs": [],
   "source": []
  },
  {
   "cell_type": "code",
   "execution_count": 7,
   "metadata": {},
   "outputs": [],
   "source": [
    "# Matrices y cotas\n",
    "c = np.array([8,2,4,4,6,5,3,1,6])\n",
    "b = np.array([60,80,50,-50,-40,-100])\n",
    "A = np.array([[1,1,1,0,0,0,0,0,0],\n",
    "             [0,0,0,1,1,1,0,0,0],\n",
    "             [0,0,0,0,0,0,1,1,1],\n",
    "             [-1,0,0,-1,0,0,-1,0,0],\n",
    "             [0,-1,0,0,-1,0,0,-1,0],\n",
    "             [0,0,-1,0,0,-1,0,0,-1]])"
   ]
  },
  {
   "cell_type": "code",
   "execution_count": 8,
   "metadata": {},
   "outputs": [],
   "source": [
    "# Resolver\n",
    "sol_energia = opt.linprog(c,A,b,method='highs')"
   ]
  },
  {
   "cell_type": "code",
   "execution_count": 9,
   "metadata": {},
   "outputs": [
    {
     "data": {
      "text/plain": [
       "        message: Optimization terminated successfully. (HiGHS Status 7: Optimal)\n",
       "        success: True\n",
       "         status: 0\n",
       "            fun: 670.0\n",
       "              x: [ 0.000e+00  0.000e+00  6.000e+01  4.000e+01  0.000e+00\n",
       "                   4.000e+01  1.000e+01  4.000e+01  0.000e+00]\n",
       "            nit: 5\n",
       "          lower:  residual: [ 0.000e+00  0.000e+00  6.000e+01  4.000e+01\n",
       "                              0.000e+00  4.000e+01  1.000e+01  4.000e+01\n",
       "                              0.000e+00]\n",
       "                 marginals: [ 5.000e+00  1.000e+00  0.000e+00  0.000e+00\n",
       "                              4.000e+00  0.000e+00  0.000e+00  0.000e+00\n",
       "                              2.000e+00]\n",
       "          upper:  residual: [       inf        inf        inf        inf\n",
       "                                    inf        inf        inf        inf\n",
       "                                    inf]\n",
       "                 marginals: [ 0.000e+00  0.000e+00  0.000e+00  0.000e+00\n",
       "                              0.000e+00  0.000e+00  0.000e+00  0.000e+00\n",
       "                              0.000e+00]\n",
       "          eqlin:  residual: []\n",
       "                 marginals: []\n",
       "        ineqlin:  residual: [ 0.000e+00  0.000e+00  0.000e+00  0.000e+00\n",
       "                              0.000e+00  0.000e+00]\n",
       "                 marginals: [-1.000e+00 -0.000e+00 -1.000e+00 -4.000e+00\n",
       "                             -2.000e+00 -5.000e+00]\n",
       " mip_node_count: 0\n",
       " mip_dual_bound: 0.0\n",
       "        mip_gap: 0.0"
      ]
     },
     "execution_count": 9,
     "metadata": {},
     "output_type": "execute_result"
    }
   ],
   "source": [
    "# Mostrar resultado\n",
    "sol_energia"
   ]
  },
  {
   "cell_type": "code",
   "execution_count": 10,
   "metadata": {},
   "outputs": [
    {
     "data": {
      "text/plain": [
       "array([ 0.,  0., 60., 40.,  0., 40., 10., 40.,  0.])"
      ]
     },
     "execution_count": 10,
     "metadata": {},
     "output_type": "execute_result"
    }
   ],
   "source": [
    "sol_energia.x"
   ]
  },
  {
   "cell_type": "markdown",
   "metadata": {},
   "source": [
    "### 1.7 Conclusiones.\n",
    " Cantidad Transportada:\n",
    "   - Desde Banco 1 a Obra 1: 0 toneladas.\n",
    "   - Desde Banco 1 a Obra 2: 0 toneladas.\n",
    "   - Desde Banco 1 a Obra 3: 60 toneladas.\n",
    "   - Desde Banco 2 a Obra 1: 40 toneladas.\n",
    "   - Desde Banco 2 a Obra 2: 0 toneladas.\n",
    "   - Desde Banco 2 a Obra 3: 40 toneladas.\n",
    "   - Desde Banco 3 a Obra 1: 10 toneladas.\n",
    "   - Desde Banco 3 a Obra 2: 40 toneladas.\n",
    "   - Desde Banco 3 a Obra 3: 0 toneladas.\n",
    "   \n",
    "Este resultado indica la cantidad óptima de cemento que debe ser transportada desde cada banco a cada obra para minimizar los costos totales de transporte, cumpliendo con las restricciones de capacidad y demanda."
   ]
  },
  {
   "cell_type": "code",
   "execution_count": null,
   "metadata": {},
   "outputs": [],
   "source": []
  },
  {
   "cell_type": "code",
   "execution_count": null,
   "metadata": {},
   "outputs": [],
   "source": []
  }
 ],
 "metadata": {
  "kernelspec": {
   "display_name": "Python 3 (ipykernel)",
   "language": "python",
   "name": "python3"
  },
  "language_info": {
   "codemirror_mode": {
    "name": "ipython",
    "version": 3
   },
   "file_extension": ".py",
   "mimetype": "text/x-python",
   "name": "python",
   "nbconvert_exporter": "python",
   "pygments_lexer": "ipython3",
   "version": "3.11.4"
  }
 },
 "nbformat": 4,
 "nbformat_minor": 2
}
